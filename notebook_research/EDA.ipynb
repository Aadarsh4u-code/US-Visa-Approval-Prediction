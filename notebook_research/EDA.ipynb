{
 "cells": [
  {
   "cell_type": "markdown",
   "metadata": {},
   "source": [
    "# US Visa Prediction Project\n",
    "**Life cycle of Machine learning Project**\n",
    "\n",
    "* Understanding the Problem Statement\n",
    "* Data Collection\n",
    "* Exploratory data analysis\n",
    "* Data Cleaning\n",
    "* Data Pre-Processing\n",
    "* Model Training \n",
    "* Choose best model"
   ]
  },
  {
   "cell_type": "markdown",
   "metadata": {},
   "source": [
    "### About\n",
    "\n",
    "The Immigration and Nationality Act (INA) of the US permits foreign workers to come to the United States to work on either a temporary or permanent basis. The act also protects US workers against adverse impacts on working place and maintain requirements when they hire foreign workers to fill workforce shortages. The immigration programs are administered by the Office of Foreign Labor Certification (OFLC)."
   ]
  },
  {
   "cell_type": "markdown",
   "metadata": {
    "vscode": {
     "languageId": "plaintext"
    }
   },
   "source": [
    "## 1) Problem statement.\n",
    "\n",
    "* OFLC gives job certification applications for employers seeking to bring foreign workers into the United States and grants certifications.\n",
    "* As In last year the count of employees were huge so OFLC needs Machine learning models to shortlist visa applicants based on their previous data.\n",
    "\n",
    "**In this project i'm going to use the data given to build a Classification model:**\n",
    "\n",
    "* This model is to check if Visa get approved or not based on the given dataset.\n",
    "* This can be used to Recommend a suitable profile for the applicants for whom the visa should be certified or denied based on the certain criteria which influences the decision.\n"
   ]
  },
  {
   "cell_type": "markdown",
   "metadata": {},
   "source": [
    "## 2) Data Collection.\n",
    "* The Dataset is part of Office of Foreign Labor Certification (OFLC)\n",
    "* The data consists of 25480 Rows and 12 Columns\n",
    "\n",
    "https://www.kaggle.com/datasets/moro23/easyvisa-dataset"
   ]
  },
  {
   "cell_type": "markdown",
   "metadata": {},
   "source": [
    "### 2.1 Import Data and Required Packages"
   ]
  },
  {
   "cell_type": "markdown",
   "metadata": {},
   "source": [
    "**Importing Pandas, Numpy, Matplotlib, Seaborn and Warings Library.**"
   ]
  },
  {
   "cell_type": "code",
   "execution_count": 1,
   "metadata": {},
   "outputs": [],
   "source": [
    "import pandas as pd\n",
    "import numpy as np\n",
    "import matplotlib.pyplot as plt\n",
    "import seaborn as sns\n",
    "import plotly.express as px\n",
    "import warnings\n",
    "\n",
    "warnings.filterwarnings(\"ignore\")\n",
    "\n",
    "%matplotlib inline\n",
    "\n",
    "# Set display options for better readability\n",
    "pd.set_option('display.max_columns', None)  # Display all columns\n",
    "# pd.set_option('display.max_rows', 50)      # Display up to 50 rows\n",
    "pd.set_option('display.width', 1000)        # Set width to prevent wrapping\n",
    "pd.set_option('display.max_colwidth', 150)  # Show full width of columns\n"
   ]
  },
  {
   "cell_type": "code",
   "execution_count": 2,
   "metadata": {},
   "outputs": [],
   "source": [
    "# Import all strategy classes from basic_data_inspection\n",
    "from analysis_src.basic_data_inspection import *"
   ]
  },
  {
   "cell_type": "code",
   "execution_count": 3,
   "metadata": {},
   "outputs": [],
   "source": [
    "# Load the data\n",
    "# Assuming you have already extracted the data into the 'extracted_data' folder\n",
    "\n",
    "data_path = '../us_visa/data/extracted_data/EasyVisa.csv'\n",
    "df = pd.read_csv(data_path)"
   ]
  },
  {
   "cell_type": "markdown",
   "metadata": {},
   "source": [
    "**Initialize the object for DataInspector Class**"
   ]
  },
  {
   "cell_type": "code",
   "execution_count": 4,
   "metadata": {},
   "outputs": [],
   "source": [
    "# Initialize the instance object for DataInspector class\n",
    "data_inspector = DataInspector()"
   ]
  },
  {
   "cell_type": "markdown",
   "metadata": {},
   "source": [
    "**Head of dataset**"
   ]
  },
  {
   "cell_type": "code",
   "execution_count": 5,
   "metadata": {},
   "outputs": [
    {
     "name": "stdout",
     "output_type": "stream",
     "text": [
      "\n",
      "Default First 5 rows\n",
      "  case_id continent education_of_employee has_job_experience requires_job_training  no_of_employees  yr_of_estab region_of_employment  prevailing_wage unit_of_wage full_time_position case_status\n",
      "0  EZYV01      Asia           High School                  N                     N            14513         2007                 West         592.2029         Hour                  Y      Denied\n",
      "1  EZYV02      Asia              Master's                  Y                     N             2412         2002            Northeast       83425.6500         Year                  Y   Certified\n",
      "2  EZYV03      Asia            Bachelor's                  N                     Y            44444         2008                 West      122996.8600         Year                  Y      Denied\n",
      "3  EZYV04      Asia            Bachelor's                  N                     N               98         1897                 West       83434.0300         Year                  Y      Denied\n",
      "4  EZYV05    Africa              Master's                  Y                     N             1082         2005                South      149907.3900         Year                  Y   Certified\n"
     ]
    }
   ],
   "source": [
    "data_inspector.execute_inspection(HeadInspection, df)"
   ]
  },
  {
   "cell_type": "markdown",
   "metadata": {},
   "source": [
    "**Tail of dataset**"
   ]
  },
  {
   "cell_type": "code",
   "execution_count": 6,
   "metadata": {},
   "outputs": [
    {
     "name": "stdout",
     "output_type": "stream",
     "text": [
      "\n",
      "Default Last 5 rows\n",
      "         case_id continent education_of_employee has_job_experience requires_job_training  no_of_employees  yr_of_estab region_of_employment  prevailing_wage unit_of_wage full_time_position case_status\n",
      "25475  EZYV25476      Asia            Bachelor's                  Y                     Y             2601         2008                South         77092.57         Year                  Y   Certified\n",
      "25476  EZYV25477      Asia           High School                  Y                     N             3274         2006            Northeast        279174.79         Year                  Y   Certified\n",
      "25477  EZYV25478      Asia              Master's                  Y                     N             1121         1910                South        146298.85         Year                  N   Certified\n",
      "25478  EZYV25479      Asia              Master's                  Y                     Y             1918         1887                 West         86154.77         Year                  Y   Certified\n",
      "25479  EZYV25480      Asia            Bachelor's                  Y                     N             3195         1960              Midwest         70876.91         Year                  Y   Certified\n"
     ]
    }
   ],
   "source": [
    "data_inspector.execute_inspection(TailInspection, df)"
   ]
  },
  {
   "cell_type": "markdown",
   "metadata": {},
   "source": [
    "**Shape of datasets**"
   ]
  },
  {
   "cell_type": "code",
   "execution_count": 7,
   "metadata": {},
   "outputs": [
    {
     "name": "stdout",
     "output_type": "stream",
     "text": [
      "\n",
      "Rows and Columns in dataset\n",
      "(25480, 12)\n"
     ]
    }
   ],
   "source": [
    "data_inspector.execute_inspection(ShapeInspection, df)"
   ]
  },
  {
   "cell_type": "markdown",
   "metadata": {},
   "source": [
    "**DataTypes in dataset**"
   ]
  },
  {
   "cell_type": "code",
   "execution_count": 8,
   "metadata": {},
   "outputs": [
    {
     "name": "stdout",
     "output_type": "stream",
     "text": [
      "\n",
      "Data Types and Non-null Counts:\n",
      "<class 'pandas.core.frame.DataFrame'>\n",
      "RangeIndex: 25480 entries, 0 to 25479\n",
      "Data columns (total 12 columns):\n",
      " #   Column                 Non-Null Count  Dtype  \n",
      "---  ------                 --------------  -----  \n",
      " 0   case_id                25480 non-null  object \n",
      " 1   continent              25480 non-null  object \n",
      " 2   education_of_employee  25480 non-null  object \n",
      " 3   has_job_experience     25480 non-null  object \n",
      " 4   requires_job_training  25480 non-null  object \n",
      " 5   no_of_employees        25480 non-null  int64  \n",
      " 6   yr_of_estab            25480 non-null  int64  \n",
      " 7   region_of_employment   25480 non-null  object \n",
      " 8   prevailing_wage        25480 non-null  float64\n",
      " 9   unit_of_wage           25480 non-null  object \n",
      " 10  full_time_position     25480 non-null  object \n",
      " 11  case_status            25480 non-null  object \n",
      "dtypes: float64(1), int64(2), object(9)\n",
      "memory usage: 2.3+ MB\n",
      "None\n"
     ]
    }
   ],
   "source": [
    "data_inspector.execute_inspection(DataTypesInspection, df)"
   ]
  },
  {
   "cell_type": "markdown",
   "metadata": {},
   "source": [
    "**Summary of dataset**"
   ]
  },
  {
   "cell_type": "code",
   "execution_count": 9,
   "metadata": {},
   "outputs": [
    {
     "name": "stdout",
     "output_type": "stream",
     "text": [
      "\n",
      "Summary Statistics (Numerical Features):\n",
      "       no_of_employees   yr_of_estab  prevailing_wage\n",
      "count     25480.000000  25480.000000     25480.000000\n",
      "mean       5667.043210   1979.409929     74455.814592\n",
      "std       22877.928848     42.366929     52815.942327\n",
      "min         -26.000000   1800.000000         2.136700\n",
      "25%        1022.000000   1976.000000     34015.480000\n",
      "50%        2109.000000   1997.000000     70308.210000\n",
      "75%        3504.000000   2005.000000    107735.512500\n",
      "max      602069.000000   2016.000000    319210.270000\n",
      "\n",
      "Summary Statistics (Categorical Features):\n",
      "       case_id continent education_of_employee has_job_experience requires_job_training region_of_employment unit_of_wage full_time_position case_status\n",
      "count    25480     25480                 25480              25480                 25480                25480        25480              25480       25480\n",
      "unique   25480         6                     4                  2                     2                    5            4                  2           2\n",
      "top     EZYV01      Asia            Bachelor's                  Y                     N            Northeast         Year                  Y   Certified\n",
      "freq         1     16861                 10234              14802                 22525                 7195        22962              22773       17018\n"
     ]
    }
   ],
   "source": [
    "data_inspector.execute_inspection(SummaryStatisticsInspection, df)"
   ]
  },
  {
   "cell_type": "markdown",
   "metadata": {},
   "source": [
    "**Numerical Feature in dataset**"
   ]
  },
  {
   "cell_type": "code",
   "execution_count": 10,
   "metadata": {},
   "outputs": [
    {
     "name": "stdout",
     "output_type": "stream",
     "text": [
      "This dataset has 3 Numerical Features and they are : ['no_of_employees', 'yr_of_estab', 'prevailing_wage']\n"
     ]
    }
   ],
   "source": [
    "data_inspector.execute_inspection(NumericalFeatureInspection, df)"
   ]
  },
  {
   "cell_type": "markdown",
   "metadata": {},
   "source": [
    "**Numerical Feature in dataset**"
   ]
  },
  {
   "cell_type": "code",
   "execution_count": 11,
   "metadata": {},
   "outputs": [
    {
     "name": "stdout",
     "output_type": "stream",
     "text": [
      "This dataset has 9 Categorical Features and they are : ['case_id', 'continent', 'education_of_employee', 'has_job_experience', 'requires_job_training', 'region_of_employment', 'unit_of_wage', 'full_time_position', 'case_status']\n"
     ]
    }
   ],
   "source": [
    "data_inspector.execute_inspection(CategoricalFeatureInspection, df)"
   ]
  },
  {
   "cell_type": "markdown",
   "metadata": {},
   "source": [
    "**Proportion of data on categorical feature**"
   ]
  },
  {
   "cell_type": "code",
   "execution_count": 12,
   "metadata": {},
   "outputs": [
    {
     "name": "stdout",
     "output_type": "stream",
     "text": [
      "case_id\n",
      "EZYV01       0.003925\n",
      "EZYV16995    0.003925\n",
      "EZYV16993    0.003925\n",
      "EZYV16992    0.003925\n",
      "EZYV16991    0.003925\n",
      "               ...   \n",
      "EZYV8492     0.003925\n",
      "EZYV8491     0.003925\n",
      "EZYV8490     0.003925\n",
      "EZYV8489     0.003925\n",
      "EZYV25480    0.003925\n",
      "Name: proportion, Length: 25480, dtype: float64\n",
      "**************************************\n",
      "continent\n",
      "Asia             66.173469\n",
      "Europe           14.646782\n",
      "North America    12.919937\n",
      "South America     3.343799\n",
      "Africa            2.162480\n",
      "Oceania           0.753532\n",
      "Name: proportion, dtype: float64\n",
      "**************************************\n",
      "education_of_employee\n",
      "Bachelor's     40.164835\n",
      "Master's       37.810047\n",
      "High School    13.422292\n",
      "Doctorate       8.602826\n",
      "Name: proportion, dtype: float64\n",
      "**************************************\n",
      "has_job_experience\n",
      "Y    58.092622\n",
      "N    41.907378\n",
      "Name: proportion, dtype: float64\n",
      "**************************************\n",
      "requires_job_training\n",
      "N    88.402669\n",
      "Y    11.597331\n",
      "Name: proportion, dtype: float64\n",
      "**************************************\n",
      "region_of_employment\n",
      "Northeast    28.237834\n",
      "South        27.539246\n",
      "West         25.847724\n",
      "Midwest      16.903454\n",
      "Island        1.471743\n",
      "Name: proportion, dtype: float64\n",
      "**************************************\n",
      "unit_of_wage\n",
      "Year     90.117739\n",
      "Hour      8.465463\n",
      "Week      1.067504\n",
      "Month     0.349294\n",
      "Name: proportion, dtype: float64\n",
      "**************************************\n",
      "full_time_position\n",
      "Y    89.375981\n",
      "N    10.624019\n",
      "Name: proportion, dtype: float64\n",
      "**************************************\n",
      "case_status\n",
      "Certified    66.789639\n",
      "Denied       33.210361\n",
      "Name: proportion, dtype: float64\n",
      "**************************************\n"
     ]
    }
   ],
   "source": [
    "data_inspector.execute_inspection(ProportionFeatureInspection, df)"
   ]
  },
  {
   "cell_type": "markdown",
   "metadata": {},
   "source": [
    "**Value Count of data on categorical feature**"
   ]
  },
  {
   "cell_type": "code",
   "execution_count": 13,
   "metadata": {},
   "outputs": [
    {
     "name": "stdout",
     "output_type": "stream",
     "text": [
      "case_id\n",
      "EZYV01       1\n",
      "EZYV16995    1\n",
      "EZYV16993    1\n",
      "EZYV16992    1\n",
      "EZYV16991    1\n",
      "            ..\n",
      "EZYV8492     1\n",
      "EZYV8491     1\n",
      "EZYV8490     1\n",
      "EZYV8489     1\n",
      "EZYV25480    1\n",
      "Name: count, Length: 25480, dtype: int64\n",
      "**************************************\n",
      "continent\n",
      "Asia             16861\n",
      "Europe            3732\n",
      "North America     3292\n",
      "South America      852\n",
      "Africa             551\n",
      "Oceania            192\n",
      "Name: count, dtype: int64\n",
      "**************************************\n",
      "education_of_employee\n",
      "Bachelor's     10234\n",
      "Master's        9634\n",
      "High School     3420\n",
      "Doctorate       2192\n",
      "Name: count, dtype: int64\n",
      "**************************************\n",
      "has_job_experience\n",
      "Y    14802\n",
      "N    10678\n",
      "Name: count, dtype: int64\n",
      "**************************************\n",
      "requires_job_training\n",
      "N    22525\n",
      "Y     2955\n",
      "Name: count, dtype: int64\n",
      "**************************************\n",
      "region_of_employment\n",
      "Northeast    7195\n",
      "South        7017\n",
      "West         6586\n",
      "Midwest      4307\n",
      "Island        375\n",
      "Name: count, dtype: int64\n",
      "**************************************\n",
      "unit_of_wage\n",
      "Year     22962\n",
      "Hour      2157\n",
      "Week       272\n",
      "Month       89\n",
      "Name: count, dtype: int64\n",
      "**************************************\n",
      "full_time_position\n",
      "Y    22773\n",
      "N     2707\n",
      "Name: count, dtype: int64\n",
      "**************************************\n",
      "case_status\n",
      "Certified    17018\n",
      "Denied        8462\n",
      "Name: count, dtype: int64\n",
      "**************************************\n"
     ]
    }
   ],
   "source": [
    "data_inspector.execute_inspection(ValueCountFeatureInspection, df)"
   ]
  },
  {
   "cell_type": "markdown",
   "metadata": {},
   "source": [
    "**Check Null Value**"
   ]
  },
  {
   "cell_type": "code",
   "execution_count": 14,
   "metadata": {},
   "outputs": [
    {
     "name": "stdout",
     "output_type": "stream",
     "text": [
      "\n",
      "Number of Null Values in each feature:\n",
      "case_id                  0\n",
      "continent                0\n",
      "education_of_employee    0\n",
      "has_job_experience       0\n",
      "requires_job_training    0\n",
      "no_of_employees          0\n",
      "yr_of_estab              0\n",
      "region_of_employment     0\n",
      "prevailing_wage          0\n",
      "unit_of_wage             0\n",
      "full_time_position       0\n",
      "case_status              0\n",
      "dtype: int64\n"
     ]
    }
   ],
   "source": [
    "data_inspector.execute_inspection(IsNullFeatureInspection, df)"
   ]
  },
  {
   "cell_type": "markdown",
   "metadata": {},
   "source": [
    "**Check duplicated value**"
   ]
  },
  {
   "cell_type": "code",
   "execution_count": 15,
   "metadata": {},
   "outputs": [
    {
     "name": "stdout",
     "output_type": "stream",
     "text": [
      "\n",
      "Summary of Duplicated Values in each feature:\n",
      "0\n"
     ]
    }
   ],
   "source": [
    "data_inspector.execute_inspection(DuplicatedFeatureInspection, df)"
   ]
  },
  {
   "cell_type": "markdown",
   "metadata": {},
   "source": [
    "**Number of Unique value in each column**"
   ]
  },
  {
   "cell_type": "code",
   "execution_count": 16,
   "metadata": {},
   "outputs": [
    {
     "name": "stdout",
     "output_type": "stream",
     "text": [
      "\n",
      "Number of Unique Values in each colunm:\n",
      "case_id                  25480\n",
      "continent                    6\n",
      "education_of_employee        4\n",
      "has_job_experience           2\n",
      "requires_job_training        2\n",
      "no_of_employees           7105\n",
      "yr_of_estab                199\n",
      "region_of_employment         5\n",
      "prevailing_wage          25454\n",
      "unit_of_wage                 4\n",
      "full_time_position           2\n",
      "case_status                  2\n",
      "dtype: int64\n"
     ]
    }
   ],
   "source": [
    "data_inspector.execute_inspection(NuUniqueValueInspection, df)"
   ]
  },
  {
   "cell_type": "markdown",
   "metadata": {},
   "source": [
    "**Display all Unique value of feature**"
   ]
  },
  {
   "cell_type": "code",
   "execution_count": 17,
   "metadata": {},
   "outputs": [
    {
     "name": "stdout",
     "output_type": "stream",
     "text": [
      "\n",
      "Unique Values in each colunm:\n",
      "case_id                  [EZYV01, EZYV02, EZYV03, EZYV04, EZYV05, EZYV06, EZYV07, EZYV08, EZYV09, EZYV10, EZYV11, EZYV12, EZYV13, EZYV14, EZYV15, EZYV16, EZYV17, EZYV18, E...\n",
      "continent                                                                                                        [Asia, Africa, North America, Europe, South America, Oceania]\n",
      "education_of_employee                                                                                                           [High School, Master's, Bachelor's, Doctorate]\n",
      "has_job_experience                                                                                                                                                      [N, Y]\n",
      "requires_job_training                                                                                                                                                   [N, Y]\n",
      "no_of_employees          [14513, 2412, 44444, 98, 1082, 2339, 4985, 3035, 4810, 2251, 2465, 4069, 123876, 1652, 15756, 4897, 76638, 2747, 4743, 843, 880, 1706, 2878, 1517,...\n",
      "yr_of_estab              [2007, 2002, 2008, 1897, 2005, 2012, 1994, 1924, 1995, 2004, 1963, 2006, 1987, 1991, 2001, 1972, 2013, 1968, 1884, 1981, 1997, 2009, 1998, 1880, 2...\n",
      "region_of_employment                                                                                                                 [West, Northeast, South, Midwest, Island]\n",
      "prevailing_wage          [592.2029, 83425.65, 122996.86, 83434.03, 149907.39, 78252.14, 53635.39, 418.2298, 74362.19, 67514.76, 83588.56, 70813.09, 28663.05, 107196.03, 22...\n",
      "unit_of_wage                                                                                                                                         [Hour, Year, Week, Month]\n",
      "full_time_position                                                                                                                                                      [Y, N]\n",
      "case_status                                                                                                                                                [Denied, Certified]\n",
      "dtype: object\n"
     ]
    }
   ],
   "source": [
    "data_inspector.execute_inspection(DisplayUniqueCatValueInspection, df)"
   ]
  },
  {
   "cell_type": "code",
   "execution_count": null,
   "metadata": {},
   "outputs": [],
   "source": []
  },
  {
   "cell_type": "code",
   "execution_count": null,
   "metadata": {},
   "outputs": [],
   "source": []
  },
  {
   "cell_type": "code",
   "execution_count": null,
   "metadata": {},
   "outputs": [],
   "source": []
  },
  {
   "cell_type": "code",
   "execution_count": null,
   "metadata": {},
   "outputs": [],
   "source": []
  },
  {
   "cell_type": "code",
   "execution_count": null,
   "metadata": {},
   "outputs": [],
   "source": []
  },
  {
   "cell_type": "code",
   "execution_count": null,
   "metadata": {},
   "outputs": [],
   "source": []
  },
  {
   "cell_type": "code",
   "execution_count": null,
   "metadata": {},
   "outputs": [],
   "source": []
  },
  {
   "cell_type": "code",
   "execution_count": null,
   "metadata": {},
   "outputs": [],
   "source": []
  },
  {
   "cell_type": "code",
   "execution_count": null,
   "metadata": {},
   "outputs": [],
   "source": []
  },
  {
   "cell_type": "code",
   "execution_count": null,
   "metadata": {},
   "outputs": [],
   "source": []
  },
  {
   "cell_type": "code",
   "execution_count": null,
   "metadata": {},
   "outputs": [],
   "source": []
  },
  {
   "cell_type": "code",
   "execution_count": null,
   "metadata": {},
   "outputs": [],
   "source": []
  },
  {
   "cell_type": "code",
   "execution_count": null,
   "metadata": {},
   "outputs": [],
   "source": []
  }
 ],
 "metadata": {
  "kernelspec": {
   "display_name": "venv_visa",
   "language": "python",
   "name": "python3"
  },
  "language_info": {
   "codemirror_mode": {
    "name": "ipython",
    "version": 3
   },
   "file_extension": ".py",
   "mimetype": "text/x-python",
   "name": "python",
   "nbconvert_exporter": "python",
   "pygments_lexer": "ipython3",
   "version": "3.11.10"
  }
 },
 "nbformat": 4,
 "nbformat_minor": 2
}
